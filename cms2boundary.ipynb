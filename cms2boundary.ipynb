{
 "cells": [
  {
   "cell_type": "markdown",
   "metadata": {
    "toc": true
   },
   "source": [
    "<h1>Table of Contents<span class=\"tocSkip\"></span></h1>\n",
    "<div class=\"toc\"><ul class=\"toc-item\"><li><span><a href=\"#CMS-boundary-condition-and-grid-structure\" data-toc-modified-id=\"CMS-boundary-condition-and-grid-structure-1\"><span class=\"toc-item-num\">1&nbsp;&nbsp;</span>CMS boundary condition and grid structure</a></span><ul class=\"toc-item\"><li><span><a href=\"#A-reference\" data-toc-modified-id=\"A-reference-1.1\"><span class=\"toc-item-num\">1.1&nbsp;&nbsp;</span>A reference</a></span></li></ul></li></ul></div>"
   ]
  },
  {
   "cell_type": "markdown",
   "metadata": {},
   "source": [
    "## CMS boundary condition and grid structure\n",
    "In CMS Version 2.0, the object of interest (e.g., an active region or filament) is modeled with\n",
    "high spatial resolution (the HIRES region), and the more distant regions are modeled with a lower\n",
    "resolution, global potential field (GLOBAL region).The HIRES region is a NLFF field and the GLOBAL region is a potential field. The model we export is NLFF field in the HIRES region which is the domain used as initial condition of the MHD simulation. \n",
    "- Both regions use the spherical coordinate system ($r$,$\\theta$ ,$\\phi$ )\n",
    "  - where r is the radial distance from Sun center, \n",
    "  - $\\theta$ is the polar angle relative to the solar rotation axis, We frequently use the latitude $\\lambda$ ($\\pi/2-\\theta$) instead of the polar angle,\n",
    "  - and $\\phi$ is the azimuth angle which is measured relative to the central meridian as seen from Earth at the model time.\n",
    "  - $\\theta_{min}<\\theta<\\theta_{max}$ & $\\lambda_{min}<\\lambda<\\lambda_{max}$ & $r_{\\odot}<r<r_{max}$\n",
    "    - $r=r_{\\odot}$ where the magnetic field is observed photosphere field and $r=r_{max}$ where the magnetic field becomes radial,\n",
    "    - At the side boundaries of the domain, the magnetic field lines pass from the HIRES region into the GLOBAL region. The normal component of the magnetic field needs to be continuous at these side boundaries, but there may be small discontinuities in the tangential components.\n",
    "    \n",
    "- In the HIRES region, the vector potential A(r), magnetic field B(r), and current density j(r)\n",
    "are discretized on staggered grids.\n",
    "  - $A_{\\phi}$ and $j_{\\phi}$ are defined at the centers of the x-edges of the cells (halfway between two corner points),$A_{\\theta}$ and $j_{\\theta}$ are defined on the y-edges and $A_{r}$ and $j_{r}$ are defined on the z-edges.\n",
    "  - The magnetic field $B_{\\phi}$ is defined at the centers of the x-face (between four corner points), and similar for B$B_{\\theta}$ and $B_{r}$."
   ]
  },
  {
   "cell_type": "markdown",
   "metadata": {},
   "source": [
    "### A reference \n",
    "1. Yang Guo2019 http://adsabs.harvard.edu/abs/2019ApJ...870L..21G\n",
    "   - Solar Magnetic Flux Rope Eruption Simulated by a Data-Driven Magnetohydrodynamic Model\n",
    "     - MHD model:zero-$\\beta$ approximation\n",
    "     - Initial conditions:(Page 4)\n",
    "       - B:NLFF field from extrapolation\n",
    "       - $\\rho$:solving the hydrostatic equation\n",
    "       - The initial condition for the velocity is zero for all the three components\n",
    "     - Boundary conditions:(Page 5)\n",
    "       - Data-driven boundary condition\n",
    "       - Data-constrained boundary condition\n",
    "       \n",
    "   - My Inspiration (picture 5)\n",
    "      1. The 20 minutes shift between observation and simulation may be due to the 1-D distribution $\\rho$.  It will take less time to lead to the eruption if ignore the 3-D distribution $\\rho$, because $\\rho$ in flux rope (filaments) is higher than ambient environment, which should prevent the eruption.\n",
    "      2. The difference eruption velocity between observation and simulation may be also due to the 1-D distribution $\\rho$ or the limitations of the zero-$\\beta$ simulation.\n",
    "      3. To obtain the 3-D distribution $\\rho$ which is consistent with the NLFF field B, deep learning may be helpful.\n",
    "      4. GAN neural network can serve as a method that translate B to $\\rho$, P, v. We use the previous simulation results as the train data to build the mapping between B and other physical characteristics($\\rho$, P, v). And then produce related $\\rho$, P, v of a new B through the trained GAN neural network, set them as the initial conditions of a MHD simulaiton.\n",
    "      \n",
    "    \n",
    " "
   ]
  },
  {
   "cell_type": "code",
   "execution_count": null,
   "metadata": {
    "collapsed": true
   },
   "outputs": [],
   "source": [
    "\n",
    "\n",
    "\n"
   ]
  },
  {
   "cell_type": "markdown",
   "metadata": {},
   "source": [
    "\n",
    "\n",
    "\n"
   ]
  }
 ],
 "metadata": {
  "kernelspec": {
   "display_name": "Python 3",
   "language": "python",
   "name": "python3"
  },
  "language_info": {
   "codemirror_mode": {
    "name": "ipython",
    "version": 3
   },
   "file_extension": ".py",
   "mimetype": "text/x-python",
   "name": "python",
   "nbconvert_exporter": "python",
   "pygments_lexer": "ipython3",
   "version": "3.7.1"
  },
  "latex_envs": {
   "LaTeX_envs_menu_present": true,
   "autoclose": false,
   "autocomplete": true,
   "bibliofile": "biblio.bib",
   "cite_by": "apalike",
   "current_citInitial": 1,
   "eqLabelWithNumbers": true,
   "eqNumInitial": 1,
   "hotkeys": {
    "equation": "Ctrl-E",
    "itemize": "Ctrl-I"
   },
   "labels_anchors": false,
   "latex_user_defs": false,
   "report_style_numbering": false,
   "user_envs_cfg": false
  },
  "nbTranslate": {
   "displayLangs": [
    ""
   ],
   "hotkey": "alt-t",
   "langInMainMenu": true,
   "sourceLang": "Chinese Sim",
   "targetLang": "",
   "useGoogleTranslate": true
  },
  "toc": {
   "base_numbering": 1,
   "nav_menu": {},
   "number_sections": true,
   "sideBar": true,
   "skip_h1_title": false,
   "title_cell": "Table of Contents",
   "title_sidebar": "Contents",
   "toc_cell": true,
   "toc_position": {},
   "toc_section_display": "block",
   "toc_window_display": true
  }
 },
 "nbformat": 4,
 "nbformat_minor": 2
}
