{
 "cells": [
  {
   "cell_type": "markdown",
   "metadata": {
    "toc": true
   },
   "source": [
    "<h1>Table of Contents<span class=\"tocSkip\"></span></h1>\n",
    "<div class=\"toc\"><ul class=\"toc-item\"><li><span><a href=\"#Work-flow-chart\" data-toc-modified-id=\"Work-flow-chart-1\"><span class=\"toc-item-num\">1&nbsp;&nbsp;</span>Work flow chart</a></span></li><li><span><a href=\"#Simulations-in-sphe.-coordinates\" data-toc-modified-id=\"Simulations-in-sphe.-coordinates-2\"><span class=\"toc-item-num\">2&nbsp;&nbsp;</span>Simulations in sphe. coordinates</a></span><ul class=\"toc-item\"><li><span><a href=\"#sphe.-data-for-range(-161,220,1)\" data-toc-modified-id=\"sphe.-data-for-range(-161,220,1)-2.1\"><span class=\"toc-item-num\">2.1&nbsp;&nbsp;</span>sphe. data for range( 161,220,1)</a></span></li><li><span><a href=\"#flux-rope-evolution:for-range(0,160,10)-&amp;-range(165,210,1)\" data-toc-modified-id=\"flux-rope-evolution:for-range(0,160,10)-&amp;-range(165,210,1)-2.2\"><span class=\"toc-item-num\">2.2&nbsp;&nbsp;</span>flux rope evolution:for range(0,160,10) &amp; range(165,210,1)</a></span></li><li><span><a href=\"#model0160-structure\" data-toc-modified-id=\"model0160-structure-2.3\"><span class=\"toc-item-num\">2.3&nbsp;&nbsp;</span>model0160 structure</a></span></li><li><span><a href=\"#Velocity-at-dips-and-apex\" data-toc-modified-id=\"Velocity-at-dips-and-apex-2.4\"><span class=\"toc-item-num\">2.4&nbsp;&nbsp;</span>Velocity at dips and apex</a></span></li><li><span><a href=\"#MFR-structure:QSL-in-3D\" data-toc-modified-id=\"MFR-structure:QSL-in-3D-2.5\"><span class=\"toc-item-num\">2.5&nbsp;&nbsp;</span>MFR structure:QSL in 3D</a></span><ul class=\"toc-item\"><li><span><a href=\"#Reconnection-at-apexes-(#mrap)\" data-toc-modified-id=\"Reconnection-at-apexes-(#mrap)-2.5.1\"><span class=\"toc-item-num\">2.5.1&nbsp;&nbsp;</span>Reconnection at apexes (#mrap)</a></span></li><li><span><a href=\"#Reconnection-processes\" data-toc-modified-id=\"Reconnection-processes-2.5.2\"><span class=\"toc-item-num\">2.5.2&nbsp;&nbsp;</span>Reconnection processes</a></span></li><li><span><a href=\"#Reconnection-at-dips\" data-toc-modified-id=\"Reconnection-at-dips-2.5.3\"><span class=\"toc-item-num\">2.5.3&nbsp;&nbsp;</span>Reconnection at dips</a></span></li><li><span><a href=\"#Reconnection-processes\" data-toc-modified-id=\"Reconnection-processes-2.5.4\"><span class=\"toc-item-num\">2.5.4&nbsp;&nbsp;</span>Reconnection processes</a></span></li><li><span><a href=\"#Snapshots-of-the-MFR\" data-toc-modified-id=\"Snapshots-of-the-MFR-2.5.5\"><span class=\"toc-item-num\">2.5.5&nbsp;&nbsp;</span>Snapshots of the MFR</a></span></li></ul></li><li><span><a href=\"#Velocity-field\" data-toc-modified-id=\"Velocity-field-2.6\"><span class=\"toc-item-num\">2.6&nbsp;&nbsp;</span>Velocity field</a></span></li><li><span><a href=\"#Todo-list\" data-toc-modified-id=\"Todo-list-2.7\"><span class=\"toc-item-num\">2.7&nbsp;&nbsp;</span>Todo list</a></span></li><li><span><a href=\"#qustions:\" data-toc-modified-id=\"qustions:-2.8\"><span class=\"toc-item-num\">2.8&nbsp;&nbsp;</span>qustions:</a></span></li></ul></li><li><span><a href=\"#Simulations-in-cart.-coordinates\" data-toc-modified-id=\"Simulations-in-cart.-coordinates-3\"><span class=\"toc-item-num\">3&nbsp;&nbsp;</span>Simulations in cart. coordinates</a></span><ul class=\"toc-item\"><li><span><a href=\"#cart.-data-for-range(-0900,1192,1)xys-&amp;-range(1124--1184)+(942,1003,1)xzs-&amp;yzs\" data-toc-modified-id=\"cart.-data-for-range(-0900,1192,1)xys-&amp;-range(1124--1184)+(942,1003,1)xzs-&amp;yzs-3.1\"><span class=\"toc-item-num\">3.1&nbsp;&nbsp;</span>cart. data for range( 0900,1192,1)xys &amp; range(1124--1184)+(942,1003,1)xzs &amp;yzs</a></span></li><li><span><a href=\"#cart.-data-for-range(-0981,1018,1):80;range(-0950,1018,1):40\" data-toc-modified-id=\"cart.-data-for-range(-0981,1018,1):80;range(-0950,1018,1):40-3.2\"><span class=\"toc-item-num\">3.2&nbsp;&nbsp;</span>cart. data for range( 0981,1018,1):80;range( 0950,1018,1):40</a></span></li><li><span><a href=\"#Todo-list\" data-toc-modified-id=\"Todo-list-3.3\"><span class=\"toc-item-num\">3.3&nbsp;&nbsp;</span>Todo list</a></span></li><li><span><a href=\"#Questions:\" data-toc-modified-id=\"Questions:-3.4\"><span class=\"toc-item-num\">3.4&nbsp;&nbsp;</span>Questions:</a></span></li></ul></li><li><span><a href=\"#talk-with-fan-and-zhao:\" data-toc-modified-id=\"talk-with-fan-and-zhao:-4\"><span class=\"toc-item-num\">4&nbsp;&nbsp;</span>talk with fan and zhao:</a></span><ul class=\"toc-item\"><li><span><a href=\"#The-models-to-Fan\" data-toc-modified-id=\"The-models-to-Fan-4.1\"><span class=\"toc-item-num\">4.1&nbsp;&nbsp;</span>The models to Fan</a></span></li><li><span><a href=\"#Zhao's-work:\" data-toc-modified-id=\"Zhao's-work:-4.2\"><span class=\"toc-item-num\">4.2&nbsp;&nbsp;</span>Zhao's work:</a></span></li><li><span><a href=\"#Liu's-work:\" data-toc-modified-id=\"Liu's-work:-4.3\"><span class=\"toc-item-num\">4.3&nbsp;&nbsp;</span>Liu's work:</a></span></li></ul></li><li><span><a href=\"#CMS-boundary-condition-and-grid-structure\" data-toc-modified-id=\"CMS-boundary-condition-and-grid-structure-5\"><span class=\"toc-item-num\">5&nbsp;&nbsp;</span>CMS boundary condition and grid structure</a></span><ul class=\"toc-item\"><li><span><a href=\"#A-reference\" data-toc-modified-id=\"A-reference-5.1\"><span class=\"toc-item-num\">5.1&nbsp;&nbsp;</span>A reference</a></span></li></ul></li><li><span><a href=\"#FanMHDmodel\" data-toc-modified-id=\"FanMHDmodel-6\"><span class=\"toc-item-num\">6&nbsp;&nbsp;</span>FanMHDmodel</a></span></li><li><span><a href=\"#fandatastructure\" data-toc-modified-id=\"fandatastructure-7\"><span class=\"toc-item-num\">7&nbsp;&nbsp;</span>fandatastructure</a></span><ul class=\"toc-item\"><li><span><a href=\"#sphe.\" data-toc-modified-id=\"sphe.-7.1\"><span class=\"toc-item-num\">7.1&nbsp;&nbsp;</span>sphe.</a></span></li></ul></li><li><span><a href=\"#Force-free-degree\" data-toc-modified-id=\"Force-free-degree-8\"><span class=\"toc-item-num\">8&nbsp;&nbsp;</span>Force free degree</a></span><ul class=\"toc-item\"><li><span><a href=\"#To-do-list:\" data-toc-modified-id=\"To-do-list:-8.1\"><span class=\"toc-item-num\">8.1&nbsp;&nbsp;</span>To do list:</a></span></li><li><span><a href=\"#Questions\" data-toc-modified-id=\"Questions-8.2\"><span class=\"toc-item-num\">8.2&nbsp;&nbsp;</span>Questions</a></span></li></ul></li></ul></div>"
   ]
  },
  {
   "cell_type": "markdown",
   "metadata": {},
   "source": [
    "## Work flow chart\n",
    "- Get what we need form raw data, the initial work flow, maybe not good for now. \n",
    "![simulation-visualization](20181001HAOtodoList/simulation-visualization.png)"
   ]
  },
  {
   "cell_type": "markdown",
   "metadata": {},
   "source": [
    "## Simulations in sphe. coordinates\n",
    "\n",
    "### sphe. data for range( 161,220,1)\n",
    "- directory:/glade/u/home/liutie/polysph_3dfulltherm_15.3_run19.heating2_sts_1sb/1mulf3/\n",
    "*********************\n",
    "*********************\n",
    "1. The distribution of current, Q, density and temperature.\n",
    "- Magnetic flux rope （MFR） structure: filaments, cavity, hot core, horns. What are their relationship.\n",
    "- The apexes and dips are consistent with high Q regions where magnetic reconnections (MRs) occur preferentially. The apexes regions show reconnection and temperature rising first and the dips regions reconnect later, which is represented by temperature increasing. MRs may play a role to increase the twist of the MFR and decrease the restriction of the ambient arcade field at the apex regions. MRs at dips regions may be represent the occurring of the instability or the eruption.\n",
    "- Filaments in dips can be divide into two parts: the lower part and the higher part. The lower part possesses high density and low current, the higher part has high density and high current. We guess only the higher part will erupt during the eruption while the lower part will keep still. There is a boundary between two high Q regions which may serves as the division between the two parts of the filaments and evolves into the classical X-structure or HFT where MRs take place, which is represented by temperature rising."
   ]
  },
  {
   "cell_type": "markdown",
   "metadata": {},
   "source": [
    "<div style=\"float:left; width:1000px;\">\n",
    "<span style=\"float:left; width:500px;\"><img src =\"20181001HAOtodoList/sphe_data/4_kslice_0160.png\"></span>\n",
    "<span style=\"float:left; width:500px;\"><img src =\"20181001HAOtodoList/sphe_data/4_kslice_0180.png\"></span>\n",
    "</div>"
   ]
  },
  {
   "cell_type": "markdown",
   "metadata": {},
   "source": [
    "<div style=\"float:left; width:1000px;\">\n",
    "<span style=\"float:left; width:500px;\"><img src =\"20181001HAOtodoList/sphe_data/4_kslice_0186.png\"></span>\n",
    "<span style=\"float:left; width:500px;\"><img src =\"20181001HAOtodoList/sphe_data/4_kslice_0189.png\"></span>\n",
    "</div>"
   ]
  },
  {
   "cell_type": "markdown",
   "metadata": {},
   "source": [
    "### flux rope evolution:for range(0,160,10) & range(165,210,1)\n",
    "- directory:/glade/u/home/liutie/polysph_3dfulltherm_15.3_run19.heating2_sts_1sb/\n",
    "*********************\n",
    "*********************\n",
    "1. Magnetic flux rope evolution: field lines are colored by temperature, bottom shows the Q distribution. Drawing with start points from Fan.\n",
    "- Magnetic flux rope evolution: field lines are colored by temperature, bottom and vertical slits shows the Q distribution. Drawing with start points averagely distribution at bottom. "
   ]
  },
  {
   "cell_type": "markdown",
   "metadata": {},
   "source": [
    "<div style=\"float:left; width:1000px;\">\n",
    "<span style=\"float:left; width:500px;\"><img src =\"20181001HAOtodoList/sphe_data/fluxrope_sphe_po0160.png\"></span>\n",
    "<span style=\"float:left; width:500px;\"><img src =\"20181001HAOtodoList/sphe_data/fluxrope_sphe_po0190.png\"></span>\n",
    "</div>"
   ]
  },
  {
   "cell_type": "markdown",
   "metadata": {},
   "source": [
    "<div style=\"float:left; width:1000px;\">\n",
    "<span style=\"float:left; width:500px;\"><img src =\"20181001HAOtodoList/sphe_data/fluxrope_sphe_ks400175.png\"></span>\n",
    "<span style=\"float:left; width:500px;\"><img src =\"20181001HAOtodoList/sphe_data/fluxrope_sphe_ks400190.png\"></span>\n",
    "</div>"
   ]
  },
  {
   "cell_type": "markdown",
   "metadata": {},
   "source": [
    "### model0160 structure\n",
    "- directory:/glade/u/home/liutie/polysph_3dfulltherm_15.3_run19.heating2_sts_1sb/\n",
    "*********************\n",
    "*********************\n",
    "1. Field lines are colored by temperature and density and go through filaments, hot core and hot cavity.\n",
    "- Bottom show Br and vertical slices show temperature, Q and current distribution.\n",
    "- We find field lines going through hot core are with higher temperature, density, current and lower Q than their ambient regions (cavity) while they do not have dips. \n",
    "- Field lines going through filaments and hot cavity have dips and apexes, dips have high density and low temperature while apexes have high temperature and low density."
   ]
  },
  {
   "cell_type": "markdown",
   "metadata": {},
   "source": [
    "<div style=\"float:left; width:1000px;\">\n",
    "<span style=\"float:left; width:500px;\"><img src =\"20181001HAOtodoList/sphe_data/fluxrope_sphe_tem_xrot0160.0000.png\"></span>\n",
    "<span style=\"float:left; width:500px;\"><img src =\"20181001HAOtodoList/sphe_data/fluxrope_sphe_tem_xrot0160.0045.png\"></span>\n",
    "</div>"
   ]
  },
  {
   "cell_type": "markdown",
   "metadata": {},
   "source": [
    "<div style=\"float:left; width:1000px;\">\n",
    "<span style=\"float:left; width:500px;\"><img src =\"20181001HAOtodoList/sphe_data/fluxrope_sphe_den_xrot0160.0000.png\"></span>\n",
    "<span style=\"float:left; width:500px;\"><img src =\"20181001HAOtodoList/sphe_data/fluxrope_sphe_den_xrot0160.0045.png\"></span>\n",
    "</div>"
   ]
  },
  {
   "cell_type": "markdown",
   "metadata": {},
   "source": [
    "<div style=\"float:left; width:1000px;\">\n",
    "<span style=\"float:left; width:500px;\"><img src =\"20181001HAOtodoList/sphe_data/fluxrope_sphe_s.qf.t_xrot0160.0045.png\"></span>\n",
    "<span style=\"float:left; width:500px;\"><img src =\"20181001HAOtodoList/sphe_data/fluxrope_sphe_s.cf.t_xrot0160.0045.png\"></span>\n",
    "</div>"
   ]
  },
  {
   "cell_type": "markdown",
   "metadata": {},
   "source": [
    "### Velocity at dips and apex\n",
    "- directory:/glade/u/home/liutie/polysph_3dfulltherm_15.3_run19.heating2_sts_1sb/1paraview/\n",
    "*********************\n",
    "*********************\n"
   ]
  },
  {
   "cell_type": "markdown",
   "metadata": {},
   "source": [
    "<div style=\"float:left; width:1000px;\">\n",
    "<span style=\"float:left; width:500px;\"><img src =\"20181001HAOtodoList/sphe_data/velo140--200.0040.png\"></span>\n",
    "<span style=\"float:left; width:500px;\"><img src =\"20181001HAOtodoList/sphe_data/velo_vx140--200.0040.png\"></span>\n",
    "</div>"
   ]
  },
  {
   "cell_type": "markdown",
   "metadata": {},
   "source": [
    "### MFR structure:QSL in 3D \n",
    "- directory:/glade/u/home/liutie/polysph_3dfulltherm_15.3_run19.heating2_sts_1sb/1paraview/\n",
    "*********************\n",
    "*********************\n",
    "1. We show Q distribution at bottom and vertical slits and 3D isosurface of high Q regions, there are 4 pairs  high Q regions which are green counters where logQ = 3 and are the footpoints of the reconnected field lines. Which is discussed in detail at [2.4.1&2.4.2](#mrap). Current isosurface colored by temperature is also displayed. \n",
    "- Two high Q regions are showed in the vertical slit(panel 2), the dips regions and the apexes regions which are consistent with 4 pairs high Q regions at bottom. We show 3D high Q isosurface like panels 3 and 4. The inverse-S shape high Q isosurface goes through dips regions and divides into two parts as panels 2 and 4 shown. The higher part is consistent with current isosurface (panels 5 and 6). We guess the higher part with high Q as well as high current is easy to erupt cause Lorentz force acts on the strong current region. \n",
    " "
   ]
  },
  {
   "cell_type": "markdown",
   "metadata": {},
   "source": [
    "<div style=\"float:left; width:1000px;\">\n",
    "<span style=\"float:left; width:500px;\"><img src =\"20181001HAOtodoList/sphe_data/0140qsl3d1.png\"></span>\n",
    "<span style=\"float:left; width:500px;\"><img src =\"20181001HAOtodoList/sphe_data/0140qsl3d2.png\"></span>\n",
    "</div>\n",
    "<div style=\"float:left; width:1000px;\">\n",
    "<span style=\"float:left; width:500px;\"><img src =\"20181001HAOtodoList/sphe_data/0160qsl3d1.png\"></span>\n",
    "<span style=\"float:left; width:500px;\"><img src =\"20181001HAOtodoList/sphe_data/0160qsl3d2.png\"></span>\n",
    "</div>\n"
   ]
  },
  {
   "cell_type": "markdown",
   "metadata": {},
   "source": [
    "<div style=\"float:left; width:1000px;\">\n",
    "<span style=\"float:left; width:670px;\"><img src =\"20181001HAOtodoList/sphe_data/0160q1.png\"></span>\n",
    "<span style=\"float:left; width:330px;\"><img src =\"20181001HAOtodoList/sphe_data/0160q2.png\"></span>\n",
    "</div>"
   ]
  },
  {
   "cell_type": "markdown",
   "metadata": {},
   "source": [
    "<div style=\"float:left; width:1000px;\">\n",
    "<span style=\"float:left; width:500px;\"><img src =\"20181001HAOtodoList/sphe_data/0160qfl1.1.png\"></span>\n",
    "<span style=\"float:left; width:500px;\"><img src =\"20181001HAOtodoList/sphe_data/0160qfl5.1.png\"></span>\n",
    "</div>"
   ]
  },
  {
   "cell_type": "markdown",
   "metadata": {},
   "source": [
    "<div style=\"float:left; width:1000px;\">\n",
    "<span style=\"float:left; width:500px;\"><img src =\"20181001HAOtodoList/sphe_data/0610mr_apex1.png\"></span>\n",
    "<span style=\"float:right; width:500px;\"><img src =\"20181001HAOtodoList/sphe_data/0610mr_apex3.png\"></span>\n",
    "<span style=\"float:left; width:500px;\"><img src =\"20181001HAOtodoList/sphe_data/0610mr_apex2.png\"></span>\n",
    "</div>"
   ]
  },
  {
   "cell_type": "markdown",
   "metadata": {},
   "source": [
    "<div style=\"float:left; width:1000px;\">\n",
    "<span style=\"float:left; width:500px;\"><img src =\"20181001HAOtodoList/sphe_data/0160cur1.png\"></span>\n",
    "<span style=\"float:left; width:500px;\"><img src =\"20181001HAOtodoList/sphe_data/0160curq1.png\"></span>\n",
    "</div>"
   ]
  },
  {
   "cell_type": "markdown",
   "metadata": {},
   "source": [
    "#### Reconnection at apexes (#mrap)\n",
    "1. Four field lines (two green and two colored by temperature) going through the apexes high Q regions show how the magnetic reconnection (MR) occurs. Two green field lines reconnect and become two inverse-s shape field lines colored by temperature. Which increases the twist of the MFR and decreases the restriction of the ambient arcade field at the apex regions."
   ]
  },
  {
   "cell_type": "markdown",
   "metadata": {},
   "source": [
    "<div style=\"float:left; width:1000px;\">\n",
    "<span style=\"float:left; width:500px;\"><img src =\"20181001HAOtodoList/sphe_data/0610mr_apex1.png\"></span>\n",
    "<span style=\"float:right; width:500px;\"><img src =\"20181001HAOtodoList/sphe_data/0610mr_apex3.png\"></span>\n",
    "<span style=\"float:left; width:500px;\"><img src =\"20181001HAOtodoList/sphe_data/0610mr_apex2.png\"></span>\n",
    "</div>"
   ]
  },
  {
   "cell_type": "markdown",
   "metadata": {},
   "source": [
    "#### Reconnection processes\n",
    "1. High-lying sheared arcade reconnects with helical field line in the top of the flux rope and become two inverse s-shape field lines during the magnetic flux emergence. And field lines move with reconnection outflows as the vertical slit showing.\n",
    "- The footpoints of the reconnected field lines jump between high Q regions.\n",
    "- Field lines lose dips during they erupting.\n",
    "- The reconnection opens the door for the eruption, which may lead to the fast rise.\n",
    "\n"
   ]
  },
  {
   "cell_type": "markdown",
   "metadata": {},
   "source": [
    "<div style=\"float:left; width:1000px;\">\n",
    "<span style=\"float:left; width:500px;\"><img src =\"20181001HAOtodoList/sphe_data/fluxrope_sphe_mrapex_2ve0140.png\"></span>\n",
    "<span style=\"float:left; width:500px;\"><img src =\"20181001HAOtodoList/sphe_data/fluxrope_sphe_mrapex_2bo0140.png\"></span>\n",
    "</div>"
   ]
  },
  {
   "cell_type": "markdown",
   "metadata": {},
   "source": [
    "<div style=\"float:left; width:1000px;\">\n",
    "<span style=\"float:left; width:500px;\"><img src =\"20181001HAOtodoList/sphe_data/fluxrope_sphe_mrapex_2ve0160.png\"></span>\n",
    "<span style=\"float:left; width:500px;\"><img src =\"20181001HAOtodoList/sphe_data/fluxrope_sphe_mrapex_2bo0160.png\"></span>\n",
    "</div>"
   ]
  },
  {
   "cell_type": "markdown",
   "metadata": {},
   "source": [
    "<div style=\"float:left; width:1000px;\">\n",
    "<span style=\"float:left; width:500px;\"><img src =\"20181001HAOtodoList/sphe_data/fluxrope_sphe_mrapex_2ve0161.png\"></span>\n",
    "<span style=\"float:left; width:500px;\"><img src =\"20181001HAOtodoList/sphe_data/fluxrope_sphe_mrapex_2bo0161.png\"></span>\n",
    "</div>"
   ]
  },
  {
   "cell_type": "markdown",
   "metadata": {},
   "source": [
    "<div style=\"float:left; width:1000px;\">\n",
    "<span style=\"float:left; width:500px;\"><img src =\"20181001HAOtodoList/sphe_data/fluxrope_sphe_mrapex_2ve0167.png\"></span>\n",
    "<span style=\"float:left; width:500px;\"><img src =\"20181001HAOtodoList/sphe_data/fluxrope_sphe_mrapex_2bo0167.png\"></span>\n",
    "</div>"
   ]
  },
  {
   "cell_type": "markdown",
   "metadata": {},
   "source": [
    "\n",
    "\n",
    "div style=\"float:left; width:1000px;\">\n",
    "<span style=\"float:left; width:500px;\"><img src =\"20181001HAOtodoList/sphe_data/fluxrope_sphe_mrapex_2ve0168.png\"></span>\n",
    "<span style=\"float:left; width:500px;\"><img src =\"20181001HAOtodoList/sphe_data/fluxrope_sphe_mrapex_2bo0168.png\"></span>\n",
    "</div>"
   ]
  },
  {
   "cell_type": "markdown",
   "metadata": {},
   "source": [
    "<div style=\"float:left; width:1000px;\">\n",
    "<span style=\"float:left; width:500px;\"><img src =\"20181001HAOtodoList/sphe_data/fluxrope_sphe_mrapex_2ve0187.png\"></span>\n",
    "<span style=\"float:left; width:500px;\"><img src =\"20181001HAOtodoList/sphe_data/fluxrope_sphe_mrapex_2bo0187.png\"></span>\n",
    "</div>"
   ]
  },
  {
   "cell_type": "markdown",
   "metadata": {},
   "source": [
    "#### Reconnection at dips\n",
    "1. Three field lines (two green and one colored by temperature) go through the dips high Q regions show how the magnetic reconnection (MR) occurs. Two J-shape green field lines reconnect and become a inverse-s shape field line colored by temperature."
   ]
  },
  {
   "cell_type": "markdown",
   "metadata": {},
   "source": [
    "<div style=\"float:left; width:1000px;\">\n",
    "<span style=\"float:left; width:500px;\"><img src =\"20181001HAOtodoList/sphe_data/0610mr_dip1.png\"></span>\n",
    "<span style=\"float:right; width:500px;\"><img src =\"20181001HAOtodoList/sphe_data/0610mr_dip3.png\"></span>\n",
    "<span style=\"float:left; width:500px;\"><img src =\"20181001HAOtodoList/sphe_data/0610mr_dip2.png\"></span>\n",
    "</div>"
   ]
  },
  {
   "cell_type": "markdown",
   "metadata": {},
   "source": [
    "#### Reconnection processes\n",
    "1. Two J-shape field lines reconnect to a sigmoidal field line with deep dip and then it evolves to with relatively shallow dip and with no dip and erupts.\n",
    "- The outer side footpoints of the two J-shape field lines are fixed while their center side footpoints approach each other resulting in reconnections.\n",
    "- The sigmoidal field line loses dip due to reconnections or magnetic tension force.\n",
    "- The Two J-shape field lines become sigmoidal field lines, which contribute to the increasing of the axial flux of the magnetic flux core.\n",
    "- "
   ]
  },
  {
   "cell_type": "markdown",
   "metadata": {},
   "source": [
    "<div style=\"float:left; width:1000px;\">\n",
    "<span style=\"float:left; width:500px;\"><img src =\"20181001HAOtodoList/sphe_data/fluxrope_sphe_mrdips_2ve0140.png\"></span>\n",
    "<span style=\"float:left; width:500px;\"><img src =\"20181001HAOtodoList/sphe_data/fluxrope_sphe_mrdips_2bo0140.png\"></span>\n",
    "</div>"
   ]
  },
  {
   "cell_type": "markdown",
   "metadata": {},
   "source": [
    "<div style=\"float:left; width:1000px;\">\n",
    "<span style=\"float:left; width:500px;\"><img src =\"20181001HAOtodoList/sphe_data/fluxrope_sphe_mrdips_2ve0183.png\"></span>\n",
    "<span style=\"float:left; width:500px;\"><img src =\"20181001HAOtodoList/sphe_data/fluxrope_sphe_mrdips_2bo0183.png\"></span>\n",
    "</div>"
   ]
  },
  {
   "cell_type": "markdown",
   "metadata": {},
   "source": [
    "<div style=\"float:left; width:1000px;\">\n",
    "<span style=\"float:left; width:500px;\"><img src =\"20181001HAOtodoList/sphe_data/fluxrope_sphe_mrdips_2ve0184.png\"></span>\n",
    "<span style=\"float:left; width:500px;\"><img src =\"20181001HAOtodoList/sphe_data/fluxrope_sphe_mrdips_2bo0184.png\"></span>\n",
    "</div>"
   ]
  },
  {
   "cell_type": "markdown",
   "metadata": {},
   "source": [
    "<div style=\"float:left; width:1000px;\">\n",
    "<span style=\"float:left; width:500px;\"><img src =\"20181001HAOtodoList/sphe_data/fluxrope_sphe_mrdips_2ve0189.png\"></span>\n",
    "<span style=\"float:left; width:500px;\"><img src =\"20181001HAOtodoList/sphe_data/fluxrope_sphe_mrdips_2bo0189.png\"></span>\n",
    "</div>"
   ]
  },
  {
   "cell_type": "markdown",
   "metadata": {},
   "source": []
  },
  {
   "cell_type": "markdown",
   "metadata": {},
   "source": [
    "#### Snapshots of the MFR\n",
    "1. Red and green field lines go through high Q regions are consistent with 3D high Q isosurface, other field lines colored by temperature are chosen form the vertical slit. Two thicker magnetic lines are represented the flux rope axis. Panels 5 and 6 show the Interfaces between the field lines and bottom as well as vertical slits."
   ]
  },
  {
   "cell_type": "markdown",
   "metadata": {},
   "source": [
    "<div style=\"float:left; width:1000px;\">\n",
    "<span style=\"float:left; width:500px;\"><img src =\"20181001HAOtodoList/sphe_data/0160qfl1.png\"></span>\n",
    "<span style=\"float:left; width:500px;\"><img src =\"20181001HAOtodoList/sphe_data/0160qfl3.png\"></span>\n",
    "</div>"
   ]
  },
  {
   "cell_type": "markdown",
   "metadata": {},
   "source": [
    "<div style=\"float:left; width:1000px;\">\n",
    "<span style=\"float:left; width:500px;\"><img src =\"20181001HAOtodoList/sphe_data/0160qfl2.png\"></span>\n",
    "<span style=\"float:left; width:500px;\"><img src =\"20181001HAOtodoList/sphe_data/0160qfl4.png\"></span>\n",
    "</div>"
   ]
  },
  {
   "cell_type": "markdown",
   "metadata": {},
   "source": [
    "<div style=\"float:left; width:1000px;\">\n",
    "<span style=\"float:left; width:500px;\"><img src =\"20181001HAOtodoList/sphe_data/0160qfl5.png\"></span>\n",
    "<span style=\"float:left; width:500px;\"><img src =\"20181001HAOtodoList/sphe_data/0160qfl6.png\"></span>\n",
    "</div>"
   ]
  },
  {
   "cell_type": "markdown",
   "metadata": {},
   "source": [
    "### Velocity field\n",
    "1. Dips reconnection:inflow and outflow\n",
    "- Apex reconnection:inflow and outflow\n",
    "\n"
   ]
  },
  {
   "cell_type": "markdown",
   "metadata": {},
   "source": [
    "### Todo list\n",
    "1. Compute 3D Q and current distribution.\n",
    "- Show field lines with 3D Q and density.\n",
    "- Reconnection processes.\n",
    "- Flux rope and filaments build up\n",
    "\n"
   ]
  },
  {
   "cell_type": "markdown",
   "metadata": {},
   "source": [
    "### qustions:\n",
    "1. what are the relationships between filament, cavity, hot core and horns and how they evolve\n",
    "- Their physical features.\n"
   ]
  },
  {
   "cell_type": "code",
   "execution_count": null,
   "metadata": {},
   "outputs": [],
   "source": [
    "a=75.5556/0.5\n",
    "t1=6.2\n",
    "b=950+(t1-6.2469)*a\n",
    "print(b)"
   ]
  },
  {
   "cell_type": "markdown",
   "metadata": {},
   "source": [
    "## Simulations in cart. coordinates\n",
    "\n",
    "### cart. data for range( 0900,1192,1)xys & range(1124--1184)+(942,1003,1)xzs &yzs\n",
    "- directory:/glade/work/liutie/cart_data/\n",
    "- Eruption1:5.8--6.8 hr  Q:6.2--6.6(942.91--1003.36)\n",
    "- Eruption2:7.4--7.8 hr  Q:7.4--7.8(1124.25--1184.69)\n",
    "- 0.5hr==75.5it\n",
    "- 0950==6.2469hr\n",
    "*********************\n",
    "*********************\n",
    "1. Q distribution of xy(bottom)  xz(middle) and yz(middle) slices\n",
    "- S-shape sigmoid without eruption maybe a jet.\n",
    "- delta0=9.53674e-05 VS delta0=0.5"
   ]
  },
  {
   "cell_type": "markdown",
   "metadata": {},
   "source": [
    "<div style=\"float:left; width:1000px;\">\n",
    "<span style=\"float:left; width:500px;\"><img src =\"20181001HAOtodoList/cart_data/qmap_xys0950.png\"></span>\n",
    "<span style=\"float:left; width:500px;\"><img src =\"20181001HAOtodoList/cart_data/qmap_xysl0950.png\"></span>\n",
    "</div>"
   ]
  },
  {
   "cell_type": "markdown",
   "metadata": {},
   "source": [
    "<div style=\"float:left; width:1000px;\">\n",
    "<span style=\"float:left; width:500px;\"><img src =\"20181001HAOtodoList/cart_data/qmap_xzs0950.png\"></span>\n",
    "<span style=\"float:left; width:500px;\"><img src =\"20181001HAOtodoList/cart_data/qmap_xzsm0950.png\"></span>\n",
    "</div>"
   ]
  },
  {
   "cell_type": "markdown",
   "metadata": {},
   "source": [
    "<div style=\"float:left; width:1000px;\">\n",
    "<span style=\"float:left; width:500px;\"><img src =\"20181001HAOtodoList/cart_data/qmap_yzs0950.png\"></span>\n",
    "<span style=\"float:left; width:500px;\"><img src =\"20181001HAOtodoList/cart_data/qmap_yzsm0950.png\"></span>\n",
    "</div>"
   ]
  },
  {
   "cell_type": "markdown",
   "metadata": {},
   "source": [
    "### cart. data for range( 0981,1018,1):80;range( 0950,1018,1):40\n",
    "- directory:/glade/u/home/liutie/cart_data/av80\n",
    "- directory:/glade/u/home/liutie/cart_data/av40\n",
    "*********************\n",
    "*********************\n",
    "1. Show field lines colored by temperature with footpoints in 80*80 square. \n",
    "- Show field lines colored by temperature with footpoints in 40*40 square. "
   ]
  },
  {
   "cell_type": "markdown",
   "metadata": {},
   "source": [
    "<div style=\"float:left; width:1000px;\">\n",
    "<span style=\"float:left; width:500px;\"><img src =\"20181001HAOtodoList/cart_data/fluxrope_cart0981-a-80.png\"></span>\n",
    "<span style=\"float:left; width:500px;\"><img src =\"20181001HAOtodoList/cart_data/fluxrope_cart1018-a-80.png\"></span>\n",
    "</div>"
   ]
  },
  {
   "cell_type": "markdown",
   "metadata": {},
   "source": [
    "<div style=\"float:left; width:1000px;\">\n",
    "<span style=\"float:left; width:500px;\"><img src =\"20181001HAOtodoList/cart_data/fluxrope_cart0981-a-80.png\"></span>\n",
    "<span style=\"float:left; width:500px;\"><img src =\"20181001HAOtodoList/cart_data/fluxrope_cart1018-a-80.png\"></span>\n",
    "</div>"
   ]
  },
  {
   "cell_type": "markdown",
   "metadata": {},
   "source": [
    "<div style=\"float:left; width:1000px;\">\n",
    "<span style=\"float:left; width:500px;\"><img src =\"20181001HAOtodoList/cart_data/fluxrope_cart0981-a-.png\"></span>\n",
    "<span style=\"float:left; width:500px;\"><img src =\"20181001HAOtodoList/cart_data/fluxrope_cart1018-a-.png\"></span>\n",
    "</div>"
   ]
  },
  {
   "cell_type": "markdown",
   "metadata": {},
   "source": [
    "### Todo list\n",
    "1. Compute Q of all the slits\n",
    "-  Find eruptions (how many homologous flares)\n",
    "  - Synthetic images\n",
    "  - Q maps\n",
    "- test drawing field lines to show flux rope\n",
    "- Find characteristic time and show all the physical parameters (structure)"
   ]
  },
  {
   "cell_type": "markdown",
   "metadata": {},
   "source": [
    "### Questions:\n",
    "1. How to track the field lines so that they can always respect the MFR : fix footpoint or according to bottom \n",
    "B\n",
    "- How to confirm MFR and HFT in QSL  : which slice "
   ]
  },
  {
   "cell_type": "markdown",
   "metadata": {},
   "source": [
    "## talk with fan and zhao:\n",
    "\n",
    "20140910event:\n"
   ]
  },
  {
   "cell_type": "markdown",
   "metadata": {},
   "source": [
    "### The models to Fan\n",
    "1. directory: /glade/work/liutie/cms2/20120712bs\n",
    "1. directory: /glade/work/liutie/cms2/20140910bs\n",
    "*********************\n",
    "*********************\n"
   ]
  },
  {
   "cell_type": "markdown",
   "metadata": {},
   "source": [
    "### Zhao's work:\n",
    "![zhaowork](20181001HAOtodoList/zhaowork.png)"
   ]
  },
  {
   "cell_type": "markdown",
   "metadata": {},
   "source": [
    "### Liu's work:\n",
    "![stru2.png](20181001HAOtodoList/stru2.png)"
   ]
  },
  {
   "cell_type": "markdown",
   "metadata": {},
   "source": [
    "![stru22.png](20181001HAOtodoList/stru22.png)"
   ]
  },
  {
   "cell_type": "markdown",
   "metadata": {},
   "source": [
    "## CMS boundary condition and grid structure\n",
    "In CMS Version 2.0, the object of interest (e.g., an active region or filament) is modeled with\n",
    "high spatial resolution (the HIRES region), and the more distant regions are modeled with a lower\n",
    "resolution, global potential field (GLOBAL region).The HIRES region is a NLFF field and the GLOBAL region is a potential field. The model we export is NLFF field in the HIRES region which is the domain used as initial condition of the MHD simulation. \n",
    "- Both regions use the spherical coordinate system ($r$,$\\theta$ ,$\\phi$ )\n",
    "  - where r is the radial distance from Sun center, \n",
    "  - $\\theta$ is the polar angle relative to the solar rotation axis, We frequently use the latitude $\\lambda$ ($\\pi/2-\\theta$) instead of the polar angle,\n",
    "  - and $\\phi$ is the azimuth angle which is measured relative to the central meridian as seen from Earth at the model time.\n",
    "  - $\\theta_{min}<\\theta<\\theta_{max}$ & $\\lambda_{min}<\\lambda<\\lambda_{max}$ & $r_{\\odot}<r<r_{max}$\n",
    "    - $r=r_{\\odot}$ where the magnetic field is observed photosphere field and $r=r_{max}$ where the magnetic field becomes radial,\n",
    "    - At the side boundaries of the domain, the magnetic field lines pass from the HIRES region into the GLOBAL region. The normal component of the magnetic field needs to be continuous at these side boundaries, but there may be small discontinuities in the tangential components.\n",
    "    \n",
    "- In the HIRES region, the vector potential A(r), magnetic field B(r), and current density j(r)\n",
    "are discretized on staggered grids.\n",
    "  - $A_{\\phi}$ and $j_{\\phi}$ are defined at the centers of the x-edges of the cells (halfway between two corner points),$A_{\\theta}$ and $j_{\\theta}$ are defined on the y-edges and $A_{r}$ and $j_{r}$ are defined on the z-edges.\n",
    "  - The magnetic field $B_{\\phi}$ is defined at the centers of the x-face (between four corner points), and similar for B$B_{\\theta}$ and $B_{r}$."
   ]
  },
  {
   "cell_type": "markdown",
   "metadata": {},
   "source": [
    "### A reference \n",
    "1. Yang Guo2019 http://adsabs.harvard.edu/abs/2019ApJ...870L..21G\n",
    "   - Solar Magnetic Flux Rope Eruption Simulated by a Data-Driven Magnetohydrodynamic Model\n",
    "     - MHD model:zero-$\\beta$ approximation\n",
    "     - Initial conditions:(Page 4)\n",
    "       - B:NLFF field from extrapolation\n",
    "       - $\\rho$:solving the hydrostatic equation\n",
    "       - The initial condition for the velocity is zero for all the three components\n",
    "     - Boundary conditions:(Page 5)\n",
    "       - Data-driven boundary condition\n",
    "       - Data-constrained boundary condition\n",
    "       \n",
    "   - My Inspiration (picture 5)\n",
    "      1. The 20 minutes shift between observation and simulation may be due to the 1-D distribution $\\rho$.  It will take less time to lead to the eruption if ignore the 3-D distribution $\\rho$, because $\\rho$ in flux rope (filaments) is higher than ambient environment, which should prevent the eruption.\n",
    "      2. The difference eruption velocity between observation and simulation may be also due to the 1-D distribution $\\rho$ or the limitations of the zero-$\\beta$ simulation.\n",
    "      3. To obtain the 3-D distribution $\\rho$ which is consistent with the NLFF field B, deep learning may be helpful.\n",
    "      4. GAN neural network can serve as a method that translate B to $\\rho$, P, v. We use the previous simulation results as the train data to build the mapping between B and other physical characteristics($\\rho$, P, v). And then produce related $\\rho$, P, v of a new B through the trained GAN neural network, set them as the initial conditions of a MHD simulaiton.\n",
    "      \n",
    "    \n",
    " "
   ]
  },
  {
   "cell_type": "markdown",
   "metadata": {},
   "source": [
    "## FanMHDmodel\n",
    "\n",
    "<font size=4>Summary of simulations</font>\n",
    "\n",
    "Case label |initial streamer |R' $({R_\\odot})^{a}$ |B $B_t a/R' (G)^b$ |${\\phi_{max}}^c$ |emerged twist $(winds)^d$ |filaments |$v_{solar wind}$ |C |The radiative loss function |coronal heating\n",
    "-|-|-|-|-|-|-|-|-|-|-\n",
    "WS-L| wide streamer| 0.75| 100| $75^\\circ$| 1.83 |yes |higher |1 |actual |-\n",
    "WS-M| wide streamer| 0.5| 103| $37.5^\\circ$| 1.1 |- |- |1 |actual |-\n",
    "NS-S| narrow streamer| 0.25| 90| $37.5^\\circ$| 0.6 |no |lower |1 |actual |-\n",
    "PROM|wide streamer| 0.75|103 |$75^\\circ$ |-|yes(more)|- |1.5 |actual |-\n",
    "Non_PROM|wide streamer| 0.75|103 |$75^\\circ$ |-|yes(more)|- |1 |non-prom |-\n",
    "fan2019 |narrow streamer *2 |0.75 |106 |$75^\\circ$ |1.76 |yes |- |- |actual |two exponentially decaying(eq1)\n",
    "\n",
    "- a curvature radius of the torus\n",
    "- b axial field strength of the torus\n",
    "- c domain size in $\\Phi: [-\\Phi_{max}; \\Phi_{max}]$\n",
    "- d total field line twist about the axial field line in the corona between the anchored ends when the\n",
    "emergence is stopped\n"
   ]
  },
  {
   "cell_type": "markdown",
   "metadata": {},
   "source": [
    "With the use of a higher value of C in equation (18) of F17 in the current PROM simulation, which increases the coronal base pressure given the same downward heat conduction flux, we find the formation of a more massive and extended prominence with more dips forming prominence condensations during the quasi-static phase compared to the WS-L case in F17."
   ]
  },
  {
   "cell_type": "markdown",
   "metadata": {},
   "source": [
    "In this paper we carry out MHD simulations of the evolution of coronal flux ropes under coronal streamers,\n",
    "and explicitly include the non-adiabatic effects that allow for the formation of prominence condensations, and model the destabilization and eruption of the flux ropes with the more realistic treatment of the thermodynamics.\n",
    "\n",
    "Model:semi-relativistic MHD equations in spherical geometry (p3 fan2017)\n",
    "1. fully ionized hydrogen gas with the adiabatic index $\\gamma= 5/3$,\n",
    "1. explicitly include a simple empirical coronal heating,\n",
    "- optically thin radiative losses,\n",
    "- the field aligned thermal conduction\n",
    "\n",
    "the \"Magnetic Flux Eruption\"(MFE) code:\n",
    "1. a staggered $r-\\theta-\\phi$ grid with a second order accurate spatial discretization.\n",
    "- The code uses an explicit 3rd order Runge-Kutta scheme for temporal discretization.\n",
    "\n",
    "Our simulations are carried out in a spherical wedge domain:\n",
    "1. $r_{\\odot}<r<11.47r_{\\odot}$ & $75^\\circ<\\theta<105\\circ$ & $\\theta_{min}<\\theta<\\theta_{max}$\n",
    "- $\\theta_{max}=75^\\circ$:grid of $504(r)*196(\\theta) * 960(\\phi) $\n",
    "- $\\theta_{max}=37.5^\\circ$ :grid of $504(r)*196(\\theta) * 480(\\phi) $\n",
    "- The grid is uniform in $\\theta and \\phi$ and stretched in the r direction.\n",
    "- At certain time periods during the simulations, we impose the emergence of a twisted magnetic torus at\n",
    "the lower boundary by specifying the electric field.\n",
    "- For the side boundaries of the simulation domain, we assume non-penetrating stress-free boundary for the velocity field and perfectly electric conducting walls for the magnetic field. For the top boundary, we use a simple outward extrapolating boundary condition that allows plasma and magnetic field to flow through.\n",
    "\n",
    "For the initial state of the simulations,we initialize two di\u000b",
    "erent 2D quasi-steady solutions of a coronal streamer with a background solar wind:\n",
    "1. a wide streamer (WS) solution and a narrow streamer (NS) solution\n",
    "- we first construct an initial potential magnetic field together with a hydrostatic atmosphere with a specified temperature profile.\n",
    "  - The initial potential field is a 2D arcade field (invariant in $\\Phi$)\n",
    "  - the potential field is stretched out into a streamer configuration\n",
    "\n"
   ]
  },
  {
   "cell_type": "markdown",
   "metadata": {},
   "source": []
  },
  {
   "cell_type": "markdown",
   "metadata": {},
   "source": [
    "## fandatastructure\n",
    "### sphe.\n",
    "- in,jn,kn\n",
    "- b1_(0:in-2,0:jn-2,0:kn-2)\n",
    "- b1c(2:in-4,2:jn-4,2:kn-4)--b1c(504,192,960)"
   ]
  },
  {
   "cell_type": "markdown",
   "metadata": {},
   "source": [
    "## Force free degree\n",
    "- 20140919\n",
    "<div style=\"float:left; width:1000px;\">\n",
    "<span style=\"float:left; width:500px;\"><img src =\"forcefree/ffde1.png\"></span>\n",
    "<span style=\"float:left; width:500px;\"><img src =\"forcefree/ffde2.png\"></span>\n",
    "</div>\n"
   ]
  },
  {
   "cell_type": "markdown",
   "metadata": {},
   "source": [
    "- 20120712\n",
    "<div style=\"float:left; width:1000px;\">\n",
    "<span style=\"float:left; width:500px;\"><img src =\"forcefree/ffde1.1.png\"></span>\n",
    "<span style=\"float:left; width:500px;\"><img src =\"forcefree/ffde1.2.png\"></span>\n",
    "</div>\n",
    "<div style=\"float:left; width:1000px;\">\n",
    "<span style=\"float:left; width:500px;\"><img src =\"forcefree/ffde4.1.png\"></span>\n",
    "<span style=\"float:left; width:500px;\"><img src =\"forcefree/ffde4.2.png\"></span>\n",
    "</div>"
   ]
  },
  {
   "cell_type": "markdown",
   "metadata": {},
   "source": [
    "### To do list:\n",
    "1. start with the model of 20140910event to run MHD simulation\n",
    "- compare with each other and confirm more"
   ]
  },
  {
   "cell_type": "markdown",
   "metadata": {},
   "source": [
    "### Questions\n",
    "1.\n"
   ]
  },
  {
   "cell_type": "markdown",
   "metadata": {},
   "source": [
    "- haha    `haha` *haha* **haha**\n",
    "\n",
    "\n",
    "\n",
    "[1] haha\n",
    "\n",
    "    [1] haha "
   ]
  },
  {
   "cell_type": "code",
   "execution_count": null,
   "metadata": {},
   "outputs": [],
   "source": []
  }
 ],
 "metadata": {
  "gist": {
   "data": {
    "description": "Desktop/ltjupyter/fan2018simulation/20181001HAOtodoList.ipynb",
    "public": false
   },
   "id": ""
  },
  "kernelspec": {
   "display_name": "Python 3",
   "language": "python",
   "name": "python3"
  },
  "language_info": {
   "codemirror_mode": {
    "name": "ipython",
    "version": 3
   },
   "file_extension": ".py",
   "mimetype": "text/x-python",
   "name": "python",
   "nbconvert_exporter": "python",
   "pygments_lexer": "ipython3",
   "version": "3.7.1"
  },
  "latex_envs": {
   "LaTeX_envs_menu_present": true,
   "autoclose": false,
   "autocomplete": true,
   "bibliofile": "biblio.bib",
   "cite_by": "apalike",
   "current_citInitial": 1,
   "eqLabelWithNumbers": true,
   "eqNumInitial": 1,
   "hotkeys": {
    "equation": "Ctrl-E",
    "itemize": "Ctrl-I"
   },
   "labels_anchors": false,
   "latex_user_defs": false,
   "report_style_numbering": false,
   "user_envs_cfg": false
  },
  "nbTranslate": {
   "displayLangs": [
    ""
   ],
   "hotkey": "alt-t",
   "langInMainMenu": true,
   "sourceLang": "Chinese Sim",
   "targetLang": "",
   "useGoogleTranslate": true
  },
  "toc": {
   "base_numbering": "1",
   "nav_menu": {},
   "number_sections": true,
   "sideBar": true,
   "skip_h1_title": true,
   "title_cell": "Table of Contents",
   "title_sidebar": "Contents",
   "toc_cell": true,
   "toc_position": {
    "height": "calc(100% - 180px)",
    "left": "10px",
    "top": "150px",
    "width": "178.95px"
   },
   "toc_section_display": true,
   "toc_window_display": false
  }
 },
 "nbformat": 4,
 "nbformat_minor": 2
}
