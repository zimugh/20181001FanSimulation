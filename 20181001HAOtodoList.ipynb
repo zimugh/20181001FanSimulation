{
 "cells": [
  {
   "cell_type": "markdown",
   "metadata": {
    "toc": true
   },
   "source": [
    "<h1>Table of Contents<span class=\"tocSkip\"></span></h1>\n",
    "<div class=\"toc\"><ul class=\"toc-item\"><li><span><a href=\"#Work-flow-chart\" data-toc-modified-id=\"Work-flow-chart-1\"><span class=\"toc-item-num\">1&nbsp;&nbsp;</span>Work flow chart</a></span></li><li><span><a href=\"#Simulations-in-sphe.-coordinates\" data-toc-modified-id=\"Simulations-in-sphe.-coordinates-2\"><span class=\"toc-item-num\">2&nbsp;&nbsp;</span>Simulations in sphe. coordinates</a></span><ul class=\"toc-item\"><li><span><a href=\"#sphe.-data-for-range(-161,220,1)\" data-toc-modified-id=\"sphe.-data-for-range(-161,220,1)-2.1\"><span class=\"toc-item-num\">2.1&nbsp;&nbsp;</span>sphe. data for range( 161,220,1)</a></span></li><li><span><a href=\"#flux-rope-evolution:for-range(0,160,10)-&amp;-range(165,210,1)\" data-toc-modified-id=\"flux-rope-evolution:for-range(0,160,10)-&amp;-range(165,210,1)-2.2\"><span class=\"toc-item-num\">2.2&nbsp;&nbsp;</span>flux rope evolution:for range(0,160,10) &amp; range(165,210,1)</a></span></li><li><span><a href=\"#model0160-structure\" data-toc-modified-id=\"model0160-structure-2.3\"><span class=\"toc-item-num\">2.3&nbsp;&nbsp;</span>model0160 structure</a></span></li><li><span><a href=\"#MFR-structure:QSL-in-3D\" data-toc-modified-id=\"MFR-structure:QSL-in-3D-2.4\"><span class=\"toc-item-num\">2.4&nbsp;&nbsp;</span>MFR structure:QSL in 3D</a></span><ul class=\"toc-item\"><li><span><a href=\"#Reconnection-at-apexes-(#mrap)\" data-toc-modified-id=\"Reconnection-at-apexes-(#mrap)-2.4.1\"><span class=\"toc-item-num\">2.4.1&nbsp;&nbsp;</span>Reconnection at apexes (#mrap)</a></span></li><li><span><a href=\"#Reconnection-at-dips\" data-toc-modified-id=\"Reconnection-at-dips-2.4.2\"><span class=\"toc-item-num\">2.4.2&nbsp;&nbsp;</span>Reconnection at dips</a></span></li><li><span><a href=\"#Snapshots-of-the-MFR\" data-toc-modified-id=\"Snapshots-of-the-MFR-2.4.3\"><span class=\"toc-item-num\">2.4.3&nbsp;&nbsp;</span>Snapshots of the MFR</a></span></li></ul></li><li><span><a href=\"#Todo-list\" data-toc-modified-id=\"Todo-list-2.5\"><span class=\"toc-item-num\">2.5&nbsp;&nbsp;</span>Todo list</a></span></li><li><span><a href=\"#qustions:\" data-toc-modified-id=\"qustions:-2.6\"><span class=\"toc-item-num\">2.6&nbsp;&nbsp;</span>qustions:</a></span></li></ul></li><li><span><a href=\"#Simulations-in-cart.-coordinates\" data-toc-modified-id=\"Simulations-in-cart.-coordinates-3\"><span class=\"toc-item-num\">3&nbsp;&nbsp;</span>Simulations in cart. coordinates</a></span><ul class=\"toc-item\"><li><span><a href=\"#cart.-data-for-range(-0910,0950,10)-&amp;-range(1020,1190,10)-&amp;-range(-0950,1018,1):xys,xzs,yzs\" data-toc-modified-id=\"cart.-data-for-range(-0910,0950,10)-&amp;-range(1020,1190,10)-&amp;-range(-0950,1018,1):xys,xzs,yzs-3.1\"><span class=\"toc-item-num\">3.1&nbsp;&nbsp;</span>cart. data for range( 0910,0950,10) &amp; range(1020,1190,10) &amp; range( 0950,1018,1):xys,xzs,yzs</a></span></li><li><span><a href=\"#cart.-data-for-range(-0981,1018,1):80;range(-0950,1018,1):40\" data-toc-modified-id=\"cart.-data-for-range(-0981,1018,1):80;range(-0950,1018,1):40-3.2\"><span class=\"toc-item-num\">3.2&nbsp;&nbsp;</span>cart. data for range( 0981,1018,1):80;range( 0950,1018,1):40</a></span></li><li><span><a href=\"#Todo-list\" data-toc-modified-id=\"Todo-list-3.3\"><span class=\"toc-item-num\">3.3&nbsp;&nbsp;</span>Todo list</a></span></li><li><span><a href=\"#Questions:\" data-toc-modified-id=\"Questions:-3.4\"><span class=\"toc-item-num\">3.4&nbsp;&nbsp;</span>Questions:</a></span></li></ul></li><li><span><a href=\"#talk-with-fan-and-zhao:\" data-toc-modified-id=\"talk-with-fan-and-zhao:-4\"><span class=\"toc-item-num\">4&nbsp;&nbsp;</span>talk with fan and zhao:</a></span><ul class=\"toc-item\"><li><span><a href=\"#The-models-to-Fan\" data-toc-modified-id=\"The-models-to-Fan-4.1\"><span class=\"toc-item-num\">4.1&nbsp;&nbsp;</span>The models to Fan</a></span></li><li><span><a href=\"#Zhao's-work:\" data-toc-modified-id=\"Zhao's-work:-4.2\"><span class=\"toc-item-num\">4.2&nbsp;&nbsp;</span>Zhao's work:</a></span></li><li><span><a href=\"#Liu's-work:\" data-toc-modified-id=\"Liu's-work:-4.3\"><span class=\"toc-item-num\">4.3&nbsp;&nbsp;</span>Liu's work:</a></span></li><li><span><a href=\"#To-do-list:\" data-toc-modified-id=\"To-do-list:-4.4\"><span class=\"toc-item-num\">4.4&nbsp;&nbsp;</span>To do list:</a></span></li><li><span><a href=\"#Questions\" data-toc-modified-id=\"Questions-4.5\"><span class=\"toc-item-num\">4.5&nbsp;&nbsp;</span>Questions</a></span></li></ul></li></ul></div>"
   ]
  },
  {
   "cell_type": "markdown",
   "metadata": {},
   "source": [
    "## Work flow chart\n",
    "- Get what we need form raw data, the initial work flow, maybe not good for now. \n",
    "![simulation-visualization](20181001HAOtodoList/simulation-visualization.png)"
   ]
  },
  {
   "cell_type": "markdown",
   "metadata": {},
   "source": [
    "## Simulations in sphe. coordinates\n",
    "\n",
    "### sphe. data for range( 161,220,1)\n",
    "- directory:/glade/u/home/liutie/polysph_3dfulltherm_15.3_run19.heating2_sts_1sb/1mulf3/\n",
    "*********************\n",
    "*********************\n",
    "1. The distribution of current, Q, density and temperature.\n",
    "- Magnetic flux rope structure: filaments, cavity, hot core, horns. What are their relationship.\n",
    "- The apexes and dips are consistent with high Q regions where magnetic reconnections (MRs) occur preferentially, the apexes regions show reconnection and temperature rising first and the dips regions reconnect later. MRs may play a role to increase the twist of the MFR and decrease the restriction of the ambient arcade field at the apex regions. MRs at dips regions may be represent the occurring of the instability or the eruption.\n",
    "- Filaments in dips can be divide into two parts: the lower part and the higher part. The lower part possesses high density and low current, the higher part has high density and high current. We guess only the higher part will erupt during the eruption while the lower part will keep still. There is a boundary between two high Q regions which may serves as the division between the two parts of the filaments and evolves into the classical X-structure or HFT where MRs takes place, which is represented by temperature rising."
   ]
  },
  {
   "cell_type": "markdown",
   "metadata": {},
   "source": [
    "<div style=\"float:left; width:1000px;\">\n",
    "<span style=\"float:left; width:500px;\"><img src =\"20181001HAOtodoList/sphe_data/4_kslice_0160.png\"></span>\n",
    "<span style=\"float:left; width:500px;\"><img src =\"20181001HAOtodoList/sphe_data/4_kslice_0180.png\"></span>\n",
    "</div>"
   ]
  },
  {
   "cell_type": "markdown",
   "metadata": {},
   "source": [
    "<div style=\"float:left; width:1000px;\">\n",
    "<span style=\"float:left; width:500px;\"><img src =\"20181001HAOtodoList/sphe_data/4_kslice_0186.png\"></span>\n",
    "<span style=\"float:left; width:500px;\"><img src =\"20181001HAOtodoList/sphe_data/4_kslice_0189.png\"></span>\n",
    "</div>"
   ]
  },
  {
   "cell_type": "markdown",
   "metadata": {},
   "source": [
    "### flux rope evolution:for range(0,160,10) & range(165,210,1)\n",
    "- directory:/glade/u/home/liutie/polysph_3dfulltherm_15.3_run19.heating2_sts_1sb/\n",
    "*********************\n",
    "*********************\n",
    "1. Magnetic flux rope evolution: field lines are colored by temperature, bottom shows the Q distribution. Drawing with start points from Fan.\n",
    "- Magnetic flux rope evolution: field lines are colored by temperature, bottom and vertical slits shows the Q distribution. Drawing with start points averagely distribution at bottom. "
   ]
  },
  {
   "cell_type": "markdown",
   "metadata": {},
   "source": [
    "<div style=\"float:left; width:1000px;\">\n",
    "<span style=\"float:left; width:500px;\"><img src =\"20181001HAOtodoList/sphe_data/fluxrope_sphe_po0160.png\"></span>\n",
    "<span style=\"float:left; width:500px;\"><img src =\"20181001HAOtodoList/sphe_data/fluxrope_sphe_po0190.png\"></span>\n",
    "</div>"
   ]
  },
  {
   "cell_type": "markdown",
   "metadata": {},
   "source": [
    "<div style=\"float:left; width:1000px;\">\n",
    "<span style=\"float:left; width:500px;\"><img src =\"20181001HAOtodoList/sphe_data/fluxrope_sphe_ks400175.png\"></span>\n",
    "<span style=\"float:left; width:500px;\"><img src =\"20181001HAOtodoList/sphe_data/fluxrope_sphe_ks400190.png\"></span>\n",
    "</div>"
   ]
  },
  {
   "cell_type": "markdown",
   "metadata": {},
   "source": [
    "### model0160 structure\n",
    "- directory:/glade/u/home/liutie/polysph_3dfulltherm_15.3_run19.heating2_sts_1sb/\n",
    "*********************\n",
    "*********************\n",
    "1. Field lines are colored by temperature and density and go through filaments, hot core and hot cavity.\n",
    "- Bottom show Br and vertical slices show temperature, Q and current distribution.\n",
    "- We find field lines going through hot core are with higher temperature, density, current and lower Q than their ambient regions (cavity) while they do not have dips. \n",
    "- Field lines going through filaments and hot cavity have dips and apexes, dips have high density and low temperature while apexes have high temperature and low density."
   ]
  },
  {
   "cell_type": "markdown",
   "metadata": {},
   "source": [
    "<div style=\"float:left; width:1000px;\">\n",
    "<span style=\"float:left; width:500px;\"><img src =\"20181001HAOtodoList/sphe_data/fluxrope_sphe_tem_xrot0160.0000.png\"></span>\n",
    "<span style=\"float:left; width:500px;\"><img src =\"20181001HAOtodoList/sphe_data/fluxrope_sphe_tem_xrot0160.0045.png\"></span>\n",
    "</div>"
   ]
  },
  {
   "cell_type": "markdown",
   "metadata": {},
   "source": [
    "<div style=\"float:left; width:1000px;\">\n",
    "<span style=\"float:left; width:500px;\"><img src =\"20181001HAOtodoList/sphe_data/fluxrope_sphe_den_xrot0160.0000.png\"></span>\n",
    "<span style=\"float:left; width:500px;\"><img src =\"20181001HAOtodoList/sphe_data/fluxrope_sphe_den_xrot0160.0045.png\"></span>\n",
    "</div>"
   ]
  },
  {
   "cell_type": "markdown",
   "metadata": {},
   "source": [
    "<div style=\"float:left; width:1000px;\">\n",
    "<span style=\"float:left; width:500px;\"><img src =\"20181001HAOtodoList/sphe_data/fluxrope_sphe_s.qf.t_xrot0160.0045.png\"></span>\n",
    "<span style=\"float:left; width:500px;\"><img src =\"20181001HAOtodoList/sphe_data/fluxrope_sphe_s.cf.t_xrot0160.0045.png\"></span>\n",
    "</div>"
   ]
  },
  {
   "cell_type": "markdown",
   "metadata": {},
   "source": [
    "### MFR structure:QSL in 3D \n",
    "- directory:/glade/u/home/liutie/polysph_3dfulltherm_15.3_run19.heating2_sts_1sb/1paraview/\n",
    "*********************\n",
    "*********************\n",
    "1. We show Q distribution at bottom and vertical slits and 3D isosurface of high Q regions, there are 4 pairs  high Q regions which are green counters where logQ = 3 and are the footpoints of the reconnected field lines. Which is discussed in detail at [2.4.1&2.4.2](#mrap). Current isosurface colored by temperature is also displayed. \n",
    "- Two high Q regions are showed in the vertical slit(panel 2), the dips regions and the apexes regions which are consistent with 4 pairs high Q regions at bottom. We show 3D high Q isosurface like panels 3 and 4. The inverse-S shape high Q isosurface goes through dips regions and divides into two parts as panels 2 and 4 shown. The higher part is consistent with current isosurface (panels 5 and 6). We guess the higher part with high Q as well as high current is easy to erupt cause Lorentz force acts on the strong current region. \n",
    " "
   ]
  },
  {
   "cell_type": "markdown",
   "metadata": {},
   "source": [
    "<div style=\"float:left; width:1000px;\">\n",
    "<span style=\"float:left; width:670px;\"><img src =\"20181001HAOtodoList/sphe_data/0160q1.png\"></span>\n",
    "<span style=\"float:left; width:330px;\"><img src =\"20181001HAOtodoList/sphe_data/0160q2.png\"></span>\n",
    "</div>"
   ]
  },
  {
   "cell_type": "markdown",
   "metadata": {},
   "source": [
    "<div style=\"float:left; width:1000px;\">\n",
    "<span style=\"float:left; width:500px;\"><img src =\"20181001HAOtodoList/sphe_data/0160qfl1.1.png\"></span>\n",
    "<span style=\"float:left; width:500px;\"><img src =\"20181001HAOtodoList/sphe_data/0160qfl5.1.png\"></span>\n",
    "</div>"
   ]
  },
  {
   "cell_type": "markdown",
   "metadata": {},
   "source": [
    "<div style=\"float:left; width:1000px;\">\n",
    "<span style=\"float:left; width:500px;\"><img src =\"20181001HAOtodoList/sphe_data/0160cur1.png\"></span>\n",
    "<span style=\"float:left; width:500px;\"><img src =\"20181001HAOtodoList/sphe_data/0160curq1.png\"></span>\n",
    "</div>"
   ]
  },
  {
   "cell_type": "markdown",
   "metadata": {},
   "source": [
    "#### Reconnection at apexes (#mrap)\n",
    "1. Four field lines (two green and two colored by temperature) go through the apexes high Q regions show how the magnetic reconnection (MR) occurs. Two green field lines reconnect and become two inverse-s shape field lines colored by temperature. Which increases the twist of the MFR and decreases the restriction of the ambient arcade field at the apex regions."
   ]
  },
  {
   "cell_type": "markdown",
   "metadata": {},
   "source": [
    "<div style=\"float:left; width:1000px;\">\n",
    "<span style=\"float:left; width:500px;\"><img src =\"20181001HAOtodoList/sphe_data/0610mr_apex1.png\"></span>\n",
    "<span style=\"float:right; width:500px;\"><img src =\"20181001HAOtodoList/sphe_data/0610mr_apex3.png\"></span>\n",
    "<span style=\"float:left; width:500px;\"><img src =\"20181001HAOtodoList/sphe_data/0610mr_apex2.png\"></span>\n",
    "</div>"
   ]
  },
  {
   "cell_type": "markdown",
   "metadata": {},
   "source": [
    "#### Reconnection at dips\n",
    "1. Three field lines (two green and one colored by temperature) go through the dips high Q regions show how the magnetic reconnection (MR) occurs. Two J-shape green field lines reconnect and become a inverse-s shape field line colored by temperature."
   ]
  },
  {
   "cell_type": "markdown",
   "metadata": {},
   "source": [
    "<div style=\"float:left; width:1000px;\">\n",
    "<span style=\"float:left; width:500px;\"><img src =\"20181001HAOtodoList/sphe_data/0610mr_dip1.png\"></span>\n",
    "<span style=\"float:right; width:500px;\"><img src =\"20181001HAOtodoList/sphe_data/0610mr_dip3.png\"></span>\n",
    "<span style=\"float:left; width:500px;\"><img src =\"20181001HAOtodoList/sphe_data/0610mr_dip2.png\"></span>\n",
    "</div>"
   ]
  },
  {
   "cell_type": "markdown",
   "metadata": {},
   "source": [
    "#### Snapshots of the MFR\n",
    "1. Red and green field lines go through high Q regions are consistent with 3D high Q isosurface, other field lines colored by temperature are chosen form the vertical slit. Two thicker magnetic lines are represented the flux rope axis. Panels 5 and 6 show the Interfaces between the field lines and bottom as well as vertical slits."
   ]
  },
  {
   "cell_type": "markdown",
   "metadata": {},
   "source": [
    "<div style=\"float:left; width:1000px;\">\n",
    "<span style=\"float:left; width:500px;\"><img src =\"20181001HAOtodoList/sphe_data/0160qfl1.png\"></span>\n",
    "<span style=\"float:left; width:500px;\"><img src =\"20181001HAOtodoList/sphe_data/0160qfl3.png\"></span>\n",
    "</div>"
   ]
  },
  {
   "cell_type": "markdown",
   "metadata": {},
   "source": [
    "<div style=\"float:left; width:1000px;\">\n",
    "<span style=\"float:left; width:500px;\"><img src =\"20181001HAOtodoList/sphe_data/0160qfl2.png\"></span>\n",
    "<span style=\"float:left; width:500px;\"><img src =\"20181001HAOtodoList/sphe_data/0160qfl4.png\"></span>\n",
    "</div>"
   ]
  },
  {
   "cell_type": "markdown",
   "metadata": {},
   "source": [
    "<div style=\"float:left; width:1000px;\">\n",
    "<span style=\"float:left; width:500px;\"><img src =\"20181001HAOtodoList/sphe_data/0160qfl5.png\"></span>\n",
    "<span style=\"float:left; width:500px;\"><img src =\"20181001HAOtodoList/sphe_data/0160qfl6.png\"></span>\n",
    "</div>"
   ]
  },
  {
   "cell_type": "code",
   "execution_count": null,
   "metadata": {},
   "outputs": [],
   "source": []
  },
  {
   "cell_type": "markdown",
   "metadata": {},
   "source": [
    "### Todo list\n",
    "1. Compute 3D Q and current distribution.\n",
    "- Show field lines with 3D Q and density.\n",
    "- \n",
    "-\n",
    "\n"
   ]
  },
  {
   "cell_type": "markdown",
   "metadata": {},
   "source": [
    "### qustions:\n",
    "1. what are the relationships between filament, cavity, hot core and horns.\n",
    "- Their physical features.\n"
   ]
  },
  {
   "cell_type": "markdown",
   "metadata": {},
   "source": [
    "## Simulations in cart. coordinates\n",
    "\n",
    "### cart. data for range( 0910,0950,10) & range(1020,1190,10) & range( 0950,1018,1):xys,xzs,yzs\n",
    "- directory:/glade/u/home/liutie/cart_data/\n",
    "*********************\n",
    "*********************\n",
    "1. Q distribution of xy(bottom)  xz(middle) and yz(middle) slices\n",
    "- S-shape sigmoid without eruption maybe a jet."
   ]
  },
  {
   "cell_type": "markdown",
   "metadata": {},
   "source": [
    "<div style=\"float:left; width:1000px;\">\n",
    "<span style=\"float:left; width:500px;\"><img src =\"20181001HAOtodoList/cart_data/qmap_xys0950.png\"></span>\n",
    "<span style=\"float:left; width:500px;\"><img src =\"20181001HAOtodoList/cart_data/qmap_xys1018.png\"></span>\n",
    "</div>"
   ]
  },
  {
   "cell_type": "markdown",
   "metadata": {},
   "source": [
    "<div style=\"float:left; width:1000px;\">\n",
    "<span style=\"float:left; width:500px;\"><img src =\"20181001HAOtodoList/cart_data/qmap_xzs0950.png\"></span>\n",
    "<span style=\"float:left; width:500px;\"><img src =\"20181001HAOtodoList/cart_data/qmap_xzs1018.png\"></span>\n",
    "</div>"
   ]
  },
  {
   "cell_type": "markdown",
   "metadata": {},
   "source": [
    "<div style=\"float:left; width:1000px;\">\n",
    "<span style=\"float:left; width:500px;\"><img src =\"20181001HAOtodoList/cart_data/qmap_yzs0950.png\"></span>\n",
    "<span style=\"float:left; width:500px;\"><img src =\"20181001HAOtodoList/cart_data/qmap_yzs1018.png\"></span>\n",
    "</div>"
   ]
  },
  {
   "cell_type": "markdown",
   "metadata": {},
   "source": [
    "### cart. data for range( 0981,1018,1):80;range( 0950,1018,1):40\n",
    "- directory:/glade/u/home/liutie/cart_data/av80\n",
    "- directory:/glade/u/home/liutie/cart_data/av40\n",
    "*********************\n",
    "*********************\n",
    "1. Show field lines colored by temperature with footpoints in 80*80 square. \n",
    "- Show field lines colored by temperature with footpoints in 40*40 square. "
   ]
  },
  {
   "cell_type": "markdown",
   "metadata": {},
   "source": [
    "You're the bye-bye processSwitch to quick\n",
    "<span style=\"float:left; width:500px;\"><img src =\"20181001HAOtodoList/cart_data/fluxrope_cart0981-a-80.png\"></span>\n",
    "<span style=\"float:left; width:500px;\"><img src =\"20181001HAOtodoList/cart_data/fluxrope_cart1018-a-80.png\"></span>\n",
    "</div>"
   ]
  },
  {
   "cell_type": "markdown",
   "metadata": {},
   "source": [
    "<div style=\"float:left; width:1000px;\">\n",
    "<span style=\"float:left; width:500px;\"><img src =\"20181001HAOtodoList/cart_data/fluxrope_cart0981-a-.png\"></span>\n",
    "<span style=\"float:left; width:500px;\"><img src =\"20181001HAOtodoList/cart_data/fluxrope_cart1018-a-.png\"></span>\n",
    "</div>"
   ]
  },
  {
   "cell_type": "markdown",
   "metadata": {},
   "source": [
    "### Todo list\n",
    "1. Find eruptions\n",
    "- test drawing field lines"
   ]
  },
  {
   "cell_type": "markdown",
   "metadata": {},
   "source": [
    "### Questions:\n",
    "1. How to track the field lines so that they can always respect the MFR : fix footpoint or according to bottom \n",
    "B\n",
    "- How to confirm MFR and HFT in QSL  : which slice "
   ]
  },
  {
   "cell_type": "markdown",
   "metadata": {},
   "source": [
    "## talk with fan and zhao:\n",
    "\n",
    "20140910event:\n"
   ]
  },
  {
   "cell_type": "markdown",
   "metadata": {},
   "source": [
    "### The models to Fan\n",
    "1. directory: /glade/work/liutie/cms2/20120712bs\n",
    "1. directory: /glade/work/liutie/cms2/20140910bs\n",
    "*********************\n",
    "*********************\n"
   ]
  },
  {
   "cell_type": "markdown",
   "metadata": {},
   "source": [
    "### Zhao's work:\n",
    "![zhaowork](20181001HAOtodoList/zhaowork.png)"
   ]
  },
  {
   "cell_type": "markdown",
   "metadata": {},
   "source": [
    "### Liu's work:\n",
    "![stru2.png](20181001HAOtodoList/stru2.png)"
   ]
  },
  {
   "cell_type": "markdown",
   "metadata": {},
   "source": [
    "![stru22.png](20181001HAOtodoList/stru22.png)"
   ]
  },
  {
   "cell_type": "markdown",
   "metadata": {},
   "source": [
    "### To do list:\n",
    "1. start with the model of 20140910event to run MHD simulation\n",
    "- compare with each other and confirm more"
   ]
  },
  {
   "cell_type": "markdown",
   "metadata": {},
   "source": [
    "### Questions\n",
    "1.\n"
   ]
  },
  {
   "cell_type": "code",
   "execution_count": null,
   "metadata": {},
   "outputs": [],
   "source": []
  }
 ],
 "metadata": {
  "kernelspec": {
   "display_name": "Python 3",
   "language": "python",
   "name": "python3"
  },
  "language_info": {
   "codemirror_mode": {
    "name": "ipython",
    "version": 3
   },
   "file_extension": ".py",
   "mimetype": "text/x-python",
   "name": "python",
   "nbconvert_exporter": "python",
   "pygments_lexer": "ipython3",
   "version": "3.7.1"
  },
  "latex_envs": {
   "LaTeX_envs_menu_present": true,
   "autoclose": false,
   "autocomplete": true,
   "bibliofile": "biblio.bib",
   "cite_by": "apalike",
   "current_citInitial": 1,
   "eqLabelWithNumbers": true,
   "eqNumInitial": 1,
   "hotkeys": {
    "equation": "Ctrl-E",
    "itemize": "Ctrl-I"
   },
   "labels_anchors": false,
   "latex_user_defs": false,
   "report_style_numbering": false,
   "user_envs_cfg": false
  },
  "nbTranslate": {
   "displayLangs": [
    ""
   ],
   "hotkey": "alt-t",
   "langInMainMenu": true,
   "sourceLang": "Chinese Sim",
   "targetLang": "",
   "useGoogleTranslate": true
  },
  "toc": {
   "base_numbering": "1",
   "nav_menu": {},
   "number_sections": true,
   "sideBar": true,
   "skip_h1_title": true,
   "title_cell": "Table of Contents",
   "title_sidebar": "Contents",
   "toc_cell": true,
   "toc_position": {
    "height": "calc(100% - 180px)",
    "left": "10px",
    "top": "150px",
    "width": "178.95px"
   },
   "toc_section_display": true,
   "toc_window_display": false
  }
 },
 "nbformat": 4,
 "nbformat_minor": 2
}
